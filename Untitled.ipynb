{
 "cells": [
  {
   "cell_type": "code",
   "execution_count": 60,
   "metadata": {},
   "outputs": [
    {
     "name": "stdout",
     "output_type": "stream",
     "text": [
      "['835043ec8e6b792147ef928d14b2222534bfaeb36c321f991df59390116a6bc7', '50d858e0985ecc7f60418aaf0cc5ab587f42c2570a884095a9e8ccacd0f6545c', '0d248e82c62c9386878327d491c762a002152d42ab2c391a31c44d9f62675ddf', '7ee1993769b5a61d07edab5aca1ef8a15ceb051317f475186dd15ad659e8dbbf']\n"
     ]
    }
   ],
   "source": [
    "import hashlib\n",
    "ans = {}\n",
    "hash_dict={}\n",
    "hash_list=[]\n",
    "for x in data:\n",
    "    ans[x]={\n",
    "        \"Value\" : data[x],\n",
    "        \"Hash\" : hashlib.sha256(str(data[x]).encode('utf-8')).hexdigest()\n",
    "    }\n",
    "    hash_dict[x] = hashlib.sha256(str(data[x]).encode('utf-8')).hexdigest()\n",
    "    hash_list.append(hashlib.sha256(str(data[x]).encode('utf-8')).hexdigest())\n",
    "#with open(\"out.json\", \"w\") as write_file:\n",
    "    #json.dump(ans, write_file)\n",
    "print(hash_list)"
   ]
  },
  {
   "cell_type": "code",
   "execution_count": 61,
   "metadata": {},
   "outputs": [],
   "source": [
    "list_len = len(hash_list)"
   ]
  },
  {
   "cell_type": "code",
   "execution_count": 62,
   "metadata": {},
   "outputs": [
    {
     "name": "stdout",
     "output_type": "stream",
     "text": [
      "4\n"
     ]
    }
   ],
   "source": [
    "print(list_len)"
   ]
  },
  {
   "cell_type": "code",
   "execution_count": 63,
   "metadata": {},
   "outputs": [],
   "source": [
    "while list_len%2!=0:\n",
    "    hash_list.extend[-1:0]\n",
    "    list_len=len(hash_list)"
   ]
  },
  {
   "cell_type": "code",
   "execution_count": 70,
   "metadata": {},
   "outputs": [
    {
     "name": "stdout",
     "output_type": "stream",
     "text": [
      "{'resourceType': '835043ec8e6b792147ef928d14b2222534bfaeb36c321f991df59390116a6bc7', 'id': '50d858e0985ecc7f60418aaf0cc5ab587f42c2570a884095a9e8ccacd0f6545c', 'gender': '0d248e82c62c9386878327d491c762a002152d42ab2c391a31c44d9f62675ddf', 'birthDate': '7ee1993769b5a61d07edab5aca1ef8a15ceb051317f475186dd15ad659e8dbbf', 'resourceTypeid': '5597aa9acd7275a3895f83b44041ad134328a97c85774a8b0278bf1d9d585e23', 'genderbirthDate': 'fe9c1c44998a1b3a6c2a0f8792d52914de2dd0d61c076b007f6b3bdce7fd181c'}\n"
     ]
    }
   ],
   "source": [
    "secondary=[]\n",
    "name=[]\n",
    "for k in [hash_list[x:x+2] for x in range(0,len(hash_list),2)]:\n",
    "    hasher=hashlib.sha256()\n",
    "    hasher.update(str(k[0]+k[1]).encode('utf-8'))\n",
    "    secondary.append(hasher.hexdigest())\n",
    "    for key, value in hash_dict.items():\n",
    "        if value==k[0] or value==k[1]:\n",
    "            name.append(key)\n",
    "    hash_dict[name[0]+name[1]]=hasher.hexdigest()\n",
    "    name.clear()\n",
    "print(hash_dict)"
   ]
  },
  {
   "cell_type": "code",
   "execution_count": 86,
   "metadata": {},
   "outputs": [],
   "source": [
    "import json\n",
    "import hashlib\n",
    "class MerkelTree(object):\n",
    "    def __init__(self):\n",
    "        pass\n",
    "    def find_merkel_hash(self, hash_list, hash_dict):\n",
    "        list_len = len(hash_list)\n",
    "        while list_len%2!=0:\n",
    "            hash_list.extend[-1:0]\n",
    "            list_len=len(hash_list)\n",
    "        secondary=[]\n",
    "        name=[]\n",
    "        for k in [hash_list[x:x+2] for x in range(0,len(hash_list),2)]:\n",
    "            hasher=hashlib.sha256()\n",
    "            hasher.update(str(k[0]+k[1]).encode('utf-8'))\n",
    "            secondary.append(hasher.hexdigest())\n",
    "            for key, value in hash_dict.items():\n",
    "                if value==k[0] or value==k[1]:\n",
    "                    name.append(key)\n",
    "            hash_dict[name[0]+name[1]]=hasher.hexdigest()\n",
    "            name.clear()\n",
    "        \n",
    "        if len(secondary)==1:\n",
    "            return hash_dict\n",
    "        else:\n",
    "            return self.find_merkel_hash(secondary, hash_dict)\n",
    "\n",
    "if __name__=='__main__':\n",
    "    cls= MerkelTree()\n",
    "    with open(\"ex.json\", \"r\") as read_file:\n",
    "        data = json.load(read_file)\n",
    "    ans = {}\n",
    "    hash_dict={}\n",
    "    hash_list=[]\n",
    "    for x in data:\n",
    "        ans[x]={\n",
    "            \"Value\" : data[x],\n",
    "            \"Hash\" : hashlib.sha256(str(data[x]).encode('utf-8')).hexdigest()\n",
    "        }\n",
    "        hash_dict[x] = hashlib.sha256(str(data[x]).encode('utf-8')).hexdigest()\n",
    "        hash_list.append(hashlib.sha256(str(data[x]).encode('utf-8')).hexdigest())\n",
    "    mk=cls.find_merkel_hash(hash_list, hash_dict)\n",
    "    with open(\"out.json\", \"w\") as write_file:\n",
    "        json.dump([ans,mk], write_file)"
   ]
  },
  {
   "cell_type": "code",
   "execution_count": 81,
   "metadata": {},
   "outputs": [
    {
     "name": "stdout",
     "output_type": "stream",
     "text": [
      "{'resourceType': '835043ec8e6b792147ef928d14b2222534bfaeb36c321f991df59390116a6bc7', 'id': '50d858e0985ecc7f60418aaf0cc5ab587f42c2570a884095a9e8ccacd0f6545c', 'gender': '0d248e82c62c9386878327d491c762a002152d42ab2c391a31c44d9f62675ddf', 'birthDate': '7ee1993769b5a61d07edab5aca1ef8a15ceb051317f475186dd15ad659e8dbbf', 'resourceTypeid': '5597aa9acd7275a3895f83b44041ad134328a97c85774a8b0278bf1d9d585e23', 'genderbirthDate': 'fe9c1c44998a1b3a6c2a0f8792d52914de2dd0d61c076b007f6b3bdce7fd181c', 'resourceTypeidgenderbirthDate': '0879b1c4582f708c1ac88f9ffce93986b6e346a1e9ca713d9d8c0bbbd954555c'}\n"
     ]
    }
   ],
   "source": [
    "print(mk)"
   ]
  },
  {
   "cell_type": "code",
   "execution_count": null,
   "metadata": {},
   "outputs": [],
   "source": []
  }
 ],
 "metadata": {
  "kernelspec": {
   "display_name": "Python 3",
   "language": "python",
   "name": "python3"
  },
  "language_info": {
   "codemirror_mode": {
    "name": "ipython",
    "version": 3
   },
   "file_extension": ".py",
   "mimetype": "text/x-python",
   "name": "python",
   "nbconvert_exporter": "python",
   "pygments_lexer": "ipython3",
   "version": "3.6.8"
  }
 },
 "nbformat": 4,
 "nbformat_minor": 2
}
